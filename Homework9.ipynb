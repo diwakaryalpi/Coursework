{
  "nbformat": 4,
  "nbformat_minor": 0,
  "metadata": {
    "colab": {
      "name": "Homework9.ipynb",
      "provenance": [],
      "collapsed_sections": [],
      "include_colab_link": true
    },
    "kernelspec": {
      "name": "python3",
      "display_name": "Python 3"
    }
  },
  "cells": [
    {
      "cell_type": "markdown",
      "metadata": {
        "id": "view-in-github",
        "colab_type": "text"
      },
      "source": [
        "<a href=\"https://colab.research.google.com/github/diwakaryalpi/Coursework/blob/main/Homework9.ipynb\" target=\"_parent\"><img src=\"https://colab.research.google.com/assets/colab-badge.svg\" alt=\"Open In Colab\"/></a>"
      ]
    },
    {
      "cell_type": "markdown",
      "metadata": {
        "id": "bfXfovkrW2G6"
      },
      "source": [
        "# Document Filtering\n",
        "\n",
        "Ch 6 from *Programming Collective Intelligence*, based on code from\n",
        "* https://github.com/arthur-e/Programming-Collective-Intelligence/tree/master/chapter6\n",
        "* https://go.oreilly.com/old-dominion-university/library/view/programming-collective-intelligence/9780596529321/\n",
        "\n",
        "**Goal:** Classify email as spam or not spam.\n",
        "\n",
        "**Implemented Example:** Classify a given document as \"bad\" or \"good\"."
      ]
    },
    {
      "cell_type": "markdown",
      "metadata": {
        "id": "XChxdkXms_XE"
      },
      "source": [
        "## General Functions"
      ]
    },
    {
      "cell_type": "code",
      "metadata": {
        "id": "OHgwbcheq5QS"
      },
      "source": [
        "import sqlite3 as sqlite   # replaces import stmt from book\n",
        "import re\n",
        "import math"
      ],
      "execution_count": 1,
      "outputs": []
    },
    {
      "cell_type": "markdown",
      "metadata": {
        "id": "uoeWBsbiYMrP"
      },
      "source": [
        "`getwords(doc)` - returns a list of unique words found in the given document\n",
        "\n",
        "* breaks up the text into words, by dividing on any character that isn’t a letter\n",
        "* leaves only actual words, converted to lowercase\n",
        "* returns only unique words (so doesn't calculate the count if a word is used multiple times in a document)\n",
        "\n",
        "Note that this reduces the number of features because text is now case insensitive. However, this will completely miss ALL CAPS as potential feature for spam.\n"
      ]
    },
    {
      "cell_type": "code",
      "metadata": {
        "id": "BQw0CH-MrJq7"
      },
      "source": [
        "def getwords(doc):\n",
        "  splitter=re.compile('\\W+')  # different than book\n",
        "  #print (doc)\n",
        "  # Split the words by non-alpha characters\n",
        "  words=[s.lower() for s in splitter.split(doc) \n",
        "          if len(s)>2 and len(s)<20]\n",
        "  \n",
        "  # Return the unique set of words only\n",
        "  uniq_words = dict([(w,1) for w in words])\n",
        "\n",
        "  return uniq_words"
      ],
      "execution_count": 2,
      "outputs": []
    },
    {
      "cell_type": "markdown",
      "metadata": {
        "id": "lC4TV2qZsyjZ"
      },
      "source": [
        "## Basic Classifier"
      ]
    },
    {
      "cell_type": "markdown",
      "metadata": {
        "id": "POqzY5LXeL-J"
      },
      "source": [
        "`class basic_classifer` - holds what the classifier has learned so far\n",
        "* implemented in pgs. 119-127, no SQL DB involved (this is in the `class classifier` below)\n",
        "\n",
        "Instance variables:\n",
        "* `fc` - stores counts for different features in the different classifications \\\\\n",
        "example: `{'python': {'bad': 0, 'good': 6}, 'the': {'bad': 3, 'good': 3}}`\n",
        "* `cc` - dictionary of how many times every classification has been used, will be used in later probability calculations\n",
        "* `getfeatures()` - extracts the features from the items being classified, we use `getwords()`\n",
        "\n",
        "Helper functions - increment and access the counts (so that we can later store the training data in a file or db)\n",
        "* `incf()` - increase the count of a feature/category pair\n",
        "* `incc()` - increase the count of a category\n",
        "* `fcount()` - num times a feature has appeared in a category\n",
        "* `catcount()` - number of items in a category\n",
        "* `totalcount()` - total number of items\n",
        "* `categories()` - list of all categories\n",
        "\n",
        "Other functions:\n",
        "* `train()` - processes the training data, extracts words, and updates counts\n",
        "* `fprob()` - returns Pr(w|c), probability that a word appears in a category, implements the Multiple Bernoulli method\n",
        "* `weightedprob()` - returns the weighted probability of Pr(w|c), using assumed probabilities"
      ]
    },
    {
      "cell_type": "code",
      "metadata": {
        "id": "aHgTtW2pKGGo"
      },
      "source": [
        "class basic_classifier:\n",
        "\n",
        "  def __init__(self,getfeatures,filename=None):\n",
        "    # Counts of feature/category combinations\n",
        "    self.fc={}\n",
        "    # Counts of documents in each category\n",
        "    self.cc={}\n",
        "    self.getfeatures=getfeatures\n",
        "    \n",
        "  # Increase the count of a feature/category pair  \n",
        "  def incf(self,f,cat):\n",
        "    self.fc.setdefault(f, {})\n",
        "    self.fc[f].setdefault(cat, 0)\n",
        "    self.fc[f][cat]+=1\n",
        "  \n",
        "  # Increase the count of a category  \n",
        "  def incc(self,cat):\n",
        "    self.cc.setdefault(cat, 0)\n",
        "    self.cc[cat]+=1  \n",
        "\n",
        "  # The number of times a feature has appeared in a category\n",
        "  def fcount(self,f,cat):\n",
        "    if f in self.fc and cat in self.fc[f]:\n",
        "      return float(self.fc[f][cat])\n",
        "    return 0.0\n",
        "\n",
        "  # The number of items in a category\n",
        "  def catcount(self,cat):\n",
        "    if cat in self.cc:\n",
        "        return float(self.cc[cat])\n",
        "    return 0\n",
        "\n",
        "  # The total number of items\n",
        "  def totalcount(self):\n",
        "    return sum(self.cc.values())\n",
        "\n",
        "  # The list of all categories\n",
        "  def categories(self):\n",
        "    return self.cc.keys()\n",
        "\n",
        "  def train(self,item,cat):\n",
        "    features=self.getfeatures(item)\n",
        "    # Increment the count for every feature with this category\n",
        "    for f in features:\n",
        "      self.incf(f,cat)\n",
        "\n",
        "    # Increment the count for this category\n",
        "    self.incc(cat)\n",
        "\n",
        "  def fprob(self,f,cat):\n",
        "    if self.catcount(cat)==0: return 0\n",
        "\n",
        "    # The total number of times this feature appeared in this \n",
        "    # category divided by the total number of items in this category\n",
        "    return self.fcount(f,cat)/self.catcount(cat)\n",
        "\n",
        "  def weightedprob(self,f,cat,prf,weight=1.0,ap=0.5):\n",
        "    # Calculate current probability\n",
        "    basicprob=prf(f,cat)\n",
        "\n",
        "    # Count the number of times this feature has appeared in\n",
        "    # all categories\n",
        "    totals=sum([self.fcount(f,c) for c in self.categories()])\n",
        "\n",
        "    # Calculate the weighted average\n",
        "    bp=((weight*ap)+(totals*basicprob))/(weight+totals)\n",
        "    return bp"
      ],
      "execution_count": 3,
      "outputs": []
    },
    {
      "cell_type": "code",
      "metadata": {
        "id": "DwotNt5JLsrh"
      },
      "source": [
        "class basic_classifier:\n",
        "\n",
        "  def __init__(self,getfeatures,filename=None):\n",
        "    # Counts of feature/category combinations\n",
        "    self.fc={}\n",
        "    # Counts of documents in each category\n",
        "    self.cc={}\n",
        "    self.getfeatures=getfeatures\n",
        "    \n",
        "  # Increase the count of a feature/category pair  \n",
        "  def incf(self,f,cat):\n",
        "    self.fc.setdefault(f, {})\n",
        "    self.fc[f].setdefault(cat, 0)\n",
        "    self.fc[f][cat]+=1\n",
        "  \n",
        "  # Increase the count of a category  \n",
        "  def incc(self,cat):\n",
        "    self.cc.setdefault(cat, 0)\n",
        "    self.cc[cat]+=1  \n",
        "\n",
        "  # The number of times a feature has appeared in a category\n",
        "  def fcount(self,f,cat):\n",
        "    if f in self.fc and cat in self.fc[f]:\n",
        "      return float(self.fc[f][cat])\n",
        "    return 0.0\n",
        "\n",
        "  # The number of items in a category\n",
        "  def catcount(self,cat):\n",
        "    if cat in self.cc:\n",
        "        return float(self.cc[cat])\n",
        "    return 0\n",
        "\n",
        "  # The total number of items\n",
        "  def totalcount(self):\n",
        "    return sum(self.cc.values())\n",
        "\n",
        "  # The list of all categories\n",
        "  def categories(self):\n",
        "    return self.cc.keys()\n",
        "\n",
        "  def train(self,item,cat):\n",
        "    features=self.getfeatures(item)\n",
        "    # Increment the count for every feature with this category\n",
        "    for f in features:\n",
        "      self.incf(f,cat)\n",
        "\n",
        "    # Increment the count for this category\n",
        "    self.incc(cat)\n",
        "\n",
        "  def fprob(self,f,cat):\n",
        "    if self.catcount(cat)==0: return 0\n",
        "\n",
        "    # The total number of times this feature appeared in this \n",
        "    # category divided by the total number of items in this category\n",
        "    return self.fcount(f,cat)/self.catcount(cat)\n",
        "\n",
        "  def weightedprob(self,f,cat,prf,weight=0.75,ap=0.5):\n",
        "    # Calculate current probability\n",
        "    basicprob=prf(f,cat)\n",
        "\n",
        "    # Count the number of times this feature has appeared in\n",
        "    # all categories\n",
        "    totals=sum([self.fcount(f,c) for c in self.categories()])\n",
        "\n",
        "    # Calculate the weighted average\n",
        "    bp=((weight*ap)+(totals*basicprob))/(weight+totals)\n",
        "    return bp"
      ],
      "execution_count": 3,
      "outputs": []
    },
    {
      "cell_type": "markdown",
      "metadata": {
        "id": "XvfzQX21si-m"
      },
      "source": [
        "## Training Examples"
      ]
    },
    {
      "cell_type": "code",
      "metadata": {
        "id": "o7u6mDIWrWAf"
      },
      "source": [
        "def sampletrain(cl):\n",
        "  cl.train('Nobody owns the water.','good')\n",
        "  cl.train('the quick rabbit jumps fences','good')\n",
        "  cl.train('buy pharmaceuticals now','bad')\n",
        "  cl.train('make quick money at the online casino','bad')\n",
        "  cl.train('the quick brown fox jumps','good')"
      ],
      "execution_count": null,
      "outputs": []
    },
    {
      "cell_type": "code",
      "metadata": {
        "id": "euzTfF-s6gAs"
      },
      "source": [
        "def sampletrain(cl):\n",
        "  cl.train(open(\"ontopic1.txt\",\"r\",encoding=\"utf8\").read().replace(\"\\n\", \" \"),'ontopic')\n",
        "  cl.train(open(\"ontopic2.txt\",\"r\",encoding=\"utf8\").read().replace(\"\\n\", \" \"),'ontopic')\n",
        "  cl.train(open(\"ontopic3.txt\",\"r\",encoding=\"utf8\").read().replace(\"\\n\", \" \"),'ontopic')\n",
        "  cl.train(open(\"ontopic4.txt\",\"r\",encoding=\"utf8\").read().replace(\"\\n\", \" \"),'ontopic')\n",
        "  cl.train(open(\"ontopic5.txt\",\"r\",encoding=\"utf8\").read().replace(\"\\n\", \" \"),'ontopic')\n",
        "  cl.train(open(\"ontopic6.txt\",\"r\",encoding=\"utf8\").read().replace(\"\\n\", \" \"),'ontopic')\n",
        "  cl.train(open(\"ontopic7.txt\",\"r\",encoding=\"utf8\").read().replace(\"\\n\", \" \"),'ontopic')\n",
        "  cl.train(open(\"ontopic8.txt\",\"r\",encoding=\"utf8\").read().replace(\"\\n\", \" \"),'ontopic')\n",
        "  cl.train(open(\"ontopic9.txt\",\"r\",encoding=\"utf8\").read().replace(\"\\n\", \" \"),'ontopic')\n",
        "  cl.train(open(\"ontopic10.txt\",\"r\",encoding=\"utf8\").read().replace(\"\\n\", \" \"),'ontopic')\n",
        "  cl.train(open(\"ontopic11.txt\",\"r\",encoding=\"utf8\").read().replace(\"\\n\", \" \"),'ontopic')\n",
        "  cl.train(open(\"ontopic12.txt\",\"r\",encoding=\"utf8\").read().replace(\"\\n\", \" \"),'ontopic')\n",
        "  cl.train(open(\"ontopic13.txt\",\"r\",encoding=\"utf8\").read().replace(\"\\n\", \" \"),'ontopic')\n",
        "  cl.train(open(\"ontopic14.txt\",\"r\",encoding=\"utf8\").read().replace(\"\\n\", \" \"),'ontopic')\n",
        "  cl.train(open(\"ontopic15.txt\",\"r\",encoding=\"utf8\").read().replace(\"\\n\", \" \"),'ontopic')\n",
        "  cl.train(open(\"ontopic16.txt\",\"r\",encoding=\"utf8\").read().replace(\"\\n\", \" \"),'ontopic')\n",
        "  cl.train(open(\"ontopic17.txt\",\"r\",encoding=\"utf8\").read().replace(\"\\n\", \" \"),'ontopic')\n",
        "  cl.train(open(\"ontopic18.txt\",\"r\",encoding=\"utf8\").read().replace(\"\\n\", \" \"),'ontopic')\n",
        "  cl.train(open(\"ontopic19.txt\",\"r\",encoding=\"utf8\").read().replace(\"\\n\", \" \"),'ontopic')\n",
        "  cl.train(open(\"ontopic20.txt\",\"r\",encoding=\"utf8\").read().replace(\"\\n\", \" \"),'ontopic')\n",
        "  cl.train(open(\"offtopic1.txt\",\"r\",encoding=\"utf8\").read().replace(\"\\n\", \" \"),'offtopic')\n",
        "  cl.train(open(\"offtopic2.txt\",\"r\",encoding=\"utf8\").read().replace(\"\\n\", \" \"),'offtopic')\n",
        "  cl.train(open(\"offtopic3.txt\",\"r\",encoding=\"utf8\").read().replace(\"\\n\", \" \"),'offtopic')\n",
        "  cl.train(open(\"offtopic4.txt\",\"r\",encoding=\"utf8\").read().replace(\"\\n\", \" \"),'offtopic')\n",
        "  cl.train(open(\"offtopic5.txt\",\"r\",encoding=\"utf8\").read().replace(\"\\n\", \" \"),'offtopic')\n",
        "  cl.train(open(\"offtopic6.txt\",\"r\",encoding=\"utf8\").read().replace(\"\\n\", \" \"),'offtopic')\n",
        "  cl.train(open(\"offtopic7.txt\",\"r\",encoding=\"utf8\").read().replace(\"\\n\", \" \"),'offtopic')\n",
        "  cl.train(open(\"offtopic8.txt\",\"r\",encoding=\"utf8\").read().replace(\"\\n\", \" \"),'offtopic')\n",
        "  cl.train(open(\"offtopic9.txt\",\"r\",encoding=\"utf8\").read().replace(\"\\n\", \" \"),'offtopic')\n",
        "  cl.train(open(\"offtopic10.txt\",\"r\",encoding=\"utf8\").read().replace(\"\\n\", \" \"),'offtopic')\n",
        "  cl.train(open(\"offtopic11.txt\",\"r\",encoding=\"utf8\").read().replace(\"\\n\", \" \"),'offtopic')\n",
        "  cl.train(open(\"offtopic12.txt\",\"r\",encoding=\"utf8\").read().replace(\"\\n\", \" \"),'offtopic')\n",
        "  cl.train(open(\"offtopic13.txt\",\"r\",encoding=\"utf8\").read().replace(\"\\n\", \" \"),'offtopic')\n",
        "  cl.train(open(\"offtopic14.txt\",\"r\",encoding=\"utf8\").read().replace(\"\\n\", \" \"),'offtopic')\n",
        "  cl.train(open(\"offtopic15.txt\",\"r\",encoding=\"utf8\").read().replace(\"\\n\", \" \"),'offtopic')\n",
        "  cl.train(open(\"offtopic16.txt\",\"r\",encoding=\"utf8\").read().replace(\"\\n\", \" \"),'offtopic')\n",
        "  cl.train(open(\"offtopic17.txt\",\"r\",encoding=\"utf8\").read().replace(\"\\n\", \" \"),'offtopic')\n",
        "  cl.train(open(\"offtopic18.txt\",\"r\",encoding=\"utf8\").read().replace(\"\\n\", \" \"),'offtopic')\n",
        "  cl.train(open(\"offtopic19.txt\",\"r\",encoding=\"utf8\").read().replace(\"\\n\", \" \"),'offtopic')\n",
        "  cl.train(open(\"offtopic20.txt\",\"r\",encoding=\"utf8\").read().replace(\"\\n\", \" \"),'offtopic')"
      ],
      "execution_count": 4,
      "outputs": []
    },
    {
      "cell_type": "markdown",
      "metadata": {
        "id": "TE8NtDFDiniL"
      },
      "source": [
        "### Example 1 - simple counts\n",
        "\n",
        "First, instantiate the basic classifier with `getwords()` as the getfeatures function."
      ]
    },
    {
      "cell_type": "code",
      "metadata": {
        "id": "Ik--QY1yim7J"
      },
      "source": [
        "cl = basic_classifier(getwords)"
      ],
      "execution_count": 5,
      "outputs": []
    },
    {
      "cell_type": "markdown",
      "metadata": {
        "id": "Svir57jSpCWy"
      },
      "source": [
        "Load sample training data and print out data from the classifier"
      ]
    },
    {
      "cell_type": "code",
      "metadata": {
        "id": "b_2W5eedpMM8",
        "colab": {
          "base_uri": "https://localhost:8080/"
        },
        "outputId": "2976d5fd-df05-47ec-d7a0-ee6e3dbc19b0"
      },
      "source": [
        "sampletrain(cl)\n",
        "print(\"\")\n",
        "print(\"Total items:\", cl.totalcount())\n",
        "print(\"Categories:\", cl.categories())\n",
        "for cat in cl.categories():\n",
        "  print(cat, cl.catcount(cat))"
      ],
      "execution_count": 6,
      "outputs": [
        {
          "output_type": "stream",
          "text": [
            "\n",
            "Total items: 40\n",
            "Categories: dict_keys(['ontopic', 'offtopic'])\n",
            "ontopic 20.0\n",
            "offtopic 20.0\n"
          ],
          "name": "stdout"
        }
      ]
    },
    {
      "cell_type": "code",
      "metadata": {
        "id": "1on-vinipvYE",
        "colab": {
          "base_uri": "https://localhost:8080/"
        },
        "outputId": "4b190c22-4c61-42b2-c8fe-02613629eca3"
      },
      "source": [
        "cl.fcount('loft', 'ontopic')"
      ],
      "execution_count": 7,
      "outputs": [
        {
          "output_type": "execute_result",
          "data": {
            "text/plain": [
              "2.0"
            ]
          },
          "metadata": {
            "tags": []
          },
          "execution_count": 7
        }
      ]
    },
    {
      "cell_type": "code",
      "metadata": {
        "id": "cJ3TrJvZpxJT",
        "colab": {
          "base_uri": "https://localhost:8080/"
        },
        "outputId": "4afb7882-6f73-4370-d3c6-d652734b442a"
      },
      "source": [
        "cl.fcount('shoedazzle', 'ontopic')"
      ],
      "execution_count": 8,
      "outputs": [
        {
          "output_type": "execute_result",
          "data": {
            "text/plain": [
              "1.0"
            ]
          },
          "metadata": {
            "tags": []
          },
          "execution_count": 8
        }
      ]
    },
    {
      "cell_type": "code",
      "metadata": {
        "colab": {
          "base_uri": "https://localhost:8080/"
        },
        "id": "R_1m4r5j68xn",
        "outputId": "b265bff6-db5a-4b8a-d1df-e2e4436f4eec"
      },
      "source": [
        "cl.fcount('justfab', 'ontopic')"
      ],
      "execution_count": 9,
      "outputs": [
        {
          "output_type": "execute_result",
          "data": {
            "text/plain": [
              "2.0"
            ]
          },
          "metadata": {
            "tags": []
          },
          "execution_count": 9
        }
      ]
    },
    {
      "cell_type": "code",
      "metadata": {
        "colab": {
          "base_uri": "https://localhost:8080/"
        },
        "id": "A6c5tzhO6_W1",
        "outputId": "7371ef23-64d4-4d0c-96aa-058ced9afb5f"
      },
      "source": [
        "cl.fcount('amazon', 'ontopic')"
      ],
      "execution_count": 10,
      "outputs": [
        {
          "output_type": "execute_result",
          "data": {
            "text/plain": [
              "2.0"
            ]
          },
          "metadata": {
            "tags": []
          },
          "execution_count": 10
        }
      ]
    },
    {
      "cell_type": "code",
      "metadata": {
        "colab": {
          "base_uri": "https://localhost:8080/"
        },
        "id": "CVVhrpSv7B3w",
        "outputId": "33533169-f1f9-4e45-ae56-87fa1b491487"
      },
      "source": [
        "cl.fcount('target', 'ontopic')"
      ],
      "execution_count": 11,
      "outputs": [
        {
          "output_type": "execute_result",
          "data": {
            "text/plain": [
              "3.0"
            ]
          },
          "metadata": {
            "tags": []
          },
          "execution_count": 11
        }
      ]
    },
    {
      "cell_type": "code",
      "metadata": {
        "colab": {
          "base_uri": "https://localhost:8080/"
        },
        "id": "UsZCzF_L7FPz",
        "outputId": "2e91fddd-53ad-4691-cc3b-095cf71fcd6b"
      },
      "source": [
        "cl.fcount('kaggle', 'offtopic')"
      ],
      "execution_count": 12,
      "outputs": [
        {
          "output_type": "execute_result",
          "data": {
            "text/plain": [
              "1.0"
            ]
          },
          "metadata": {
            "tags": []
          },
          "execution_count": 12
        }
      ]
    },
    {
      "cell_type": "code",
      "metadata": {
        "colab": {
          "base_uri": "https://localhost:8080/"
        },
        "id": "FlWE8PcF7Hlo",
        "outputId": "f7492ccf-d53e-4376-9911-3dbaeaf45bc3"
      },
      "source": [
        "cl.fcount('google', 'offtopic')"
      ],
      "execution_count": 13,
      "outputs": [
        {
          "output_type": "execute_result",
          "data": {
            "text/plain": [
              "3.0"
            ]
          },
          "metadata": {
            "tags": []
          },
          "execution_count": 13
        }
      ]
    },
    {
      "cell_type": "code",
      "metadata": {
        "colab": {
          "base_uri": "https://localhost:8080/"
        },
        "id": "MzY7DIRl7KAn",
        "outputId": "6fc85614-0441-485e-df93-f8fb08f8c825"
      },
      "source": [
        "cl.fcount('quora', 'offtopic')"
      ],
      "execution_count": 14,
      "outputs": [
        {
          "output_type": "execute_result",
          "data": {
            "text/plain": [
              "1.0"
            ]
          },
          "metadata": {
            "tags": []
          },
          "execution_count": 14
        }
      ]
    },
    {
      "cell_type": "code",
      "metadata": {
        "colab": {
          "base_uri": "https://localhost:8080/"
        },
        "id": "90eHq2kS7M0P",
        "outputId": "4a2dfba4-911c-4169-8f87-f31ba9c4a8f4"
      },
      "source": [
        "cl.fcount('odu', 'offtopic')"
      ],
      "execution_count": 15,
      "outputs": [
        {
          "output_type": "execute_result",
          "data": {
            "text/plain": [
              "2.0"
            ]
          },
          "metadata": {
            "tags": []
          },
          "execution_count": 15
        }
      ]
    },
    {
      "cell_type": "code",
      "metadata": {
        "colab": {
          "base_uri": "https://localhost:8080/"
        },
        "id": "POsOro_87PNu",
        "outputId": "e8389088-1aa7-482c-e621-8a5de01c170c"
      },
      "source": [
        "cl.fcount('coursera', 'offtopic')"
      ],
      "execution_count": 16,
      "outputs": [
        {
          "output_type": "execute_result",
          "data": {
            "text/plain": [
              "1.0"
            ]
          },
          "metadata": {
            "tags": []
          },
          "execution_count": 16
        }
      ]
    },
    {
      "cell_type": "markdown",
      "metadata": {
        "id": "HICNYWVZqHdH"
      },
      "source": [
        "### Example 2 (pg. 122) - simple prob\n",
        "\n",
        "First, reset the classifier by re-instantiating"
      ]
    },
    {
      "cell_type": "code",
      "metadata": {
        "id": "axzBKM2KqyQL"
      },
      "source": [
        "cl = basic_classifier(getwords)"
      ],
      "execution_count": 17,
      "outputs": []
    },
    {
      "cell_type": "code",
      "metadata": {
        "id": "f9CoG2rnq_5F",
        "colab": {
          "base_uri": "https://localhost:8080/"
        },
        "outputId": "672e653b-d2f1-46ff-8ffd-1d94875bff05"
      },
      "source": [
        "sampletrain(cl)\n",
        "cl.fprob('shop', 'ontopic')"
      ],
      "execution_count": 18,
      "outputs": [
        {
          "output_type": "execute_result",
          "data": {
            "text/plain": [
              "0.6"
            ]
          },
          "metadata": {
            "tags": []
          },
          "execution_count": 18
        }
      ]
    },
    {
      "cell_type": "code",
      "metadata": {
        "colab": {
          "base_uri": "https://localhost:8080/"
        },
        "id": "kuwjGaTv-ODk",
        "outputId": "e37ae4ac-62b7-41c9-93d7-c59c59ee9a7b"
      },
      "source": [
        "sampletrain(cl)\n",
        "cl.fprob('kaggle', 'offtopic')"
      ],
      "execution_count": 19,
      "outputs": [
        {
          "output_type": "execute_result",
          "data": {
            "text/plain": [
              "0.05"
            ]
          },
          "metadata": {
            "tags": []
          },
          "execution_count": 19
        }
      ]
    },
    {
      "cell_type": "code",
      "metadata": {
        "colab": {
          "base_uri": "https://localhost:8080/"
        },
        "id": "a_x0MaxH8imj",
        "outputId": "2e4f940b-af3b-4444-ab3d-64152300b2dc"
      },
      "source": [
        "sampletrain(cl)\n",
        "cl.fprob('shop', 'offtopic')"
      ],
      "execution_count": 20,
      "outputs": [
        {
          "output_type": "execute_result",
          "data": {
            "text/plain": [
              "0.0"
            ]
          },
          "metadata": {
            "tags": []
          },
          "execution_count": 20
        }
      ]
    },
    {
      "cell_type": "code",
      "metadata": {
        "colab": {
          "base_uri": "https://localhost:8080/"
        },
        "id": "mHUGXJdr8P9Z",
        "outputId": "1366013b-d1b4-4c76-d5bf-41a0de952770"
      },
      "source": [
        "sampletrain(cl)\n",
        "cl.fprob('buy', 'ontopic')"
      ],
      "execution_count": 21,
      "outputs": [
        {
          "output_type": "execute_result",
          "data": {
            "text/plain": [
              "0.25"
            ]
          },
          "metadata": {
            "tags": []
          },
          "execution_count": 21
        }
      ]
    },
    {
      "cell_type": "code",
      "metadata": {
        "colab": {
          "base_uri": "https://localhost:8080/"
        },
        "id": "wOQ2q-b_8BBD",
        "outputId": "536cde9e-80e2-45b5-a9d5-fe0938808a57"
      },
      "source": [
        "sampletrain(cl)\n",
        "cl.fprob('buy', 'offtopic')"
      ],
      "execution_count": 22,
      "outputs": [
        {
          "output_type": "execute_result",
          "data": {
            "text/plain": [
              "0.05"
            ]
          },
          "metadata": {
            "tags": []
          },
          "execution_count": 22
        }
      ]
    },
    {
      "cell_type": "markdown",
      "metadata": {
        "id": "N-mLjCHcq4BJ"
      },
      "source": [
        "### Example 3 (pg. 122) - simple weightedprob"
      ]
    },
    {
      "cell_type": "code",
      "metadata": {
        "id": "B38WcYRvh8vH",
        "colab": {
          "base_uri": "https://localhost:8080/"
        },
        "outputId": "548ede5c-8a75-4399-e860-5f35a015bd1c"
      },
      "source": [
        "cl = basic_classifier(getwords)\n",
        "cl.weightedprob('shop', 'ontopic', cl.fprob)"
      ],
      "execution_count": 23,
      "outputs": [
        {
          "output_type": "execute_result",
          "data": {
            "text/plain": [
              "0.5"
            ]
          },
          "metadata": {
            "tags": []
          },
          "execution_count": 23
        }
      ]
    },
    {
      "cell_type": "code",
      "metadata": {
        "colab": {
          "base_uri": "https://localhost:8080/"
        },
        "id": "K3QM1hjf-TNh",
        "outputId": "500a65bb-003d-4a11-df0c-8780e669d6a8"
      },
      "source": [
        "cl = basic_classifier(getwords)\n",
        "cl.weightedprob('kaggle', 'offtopic', cl.fprob)"
      ],
      "execution_count": 24,
      "outputs": [
        {
          "output_type": "execute_result",
          "data": {
            "text/plain": [
              "0.5"
            ]
          },
          "metadata": {
            "tags": []
          },
          "execution_count": 24
        }
      ]
    },
    {
      "cell_type": "code",
      "metadata": {
        "colab": {
          "base_uri": "https://localhost:8080/"
        },
        "id": "y8eWuG7w8eSF",
        "outputId": "448c3c05-909c-46d6-cdb3-0dd63bbc1da1"
      },
      "source": [
        "cl = basic_classifier(getwords)\n",
        "cl.weightedprob('shop', 'offtopic', cl.fprob)"
      ],
      "execution_count": 25,
      "outputs": [
        {
          "output_type": "execute_result",
          "data": {
            "text/plain": [
              "0.5"
            ]
          },
          "metadata": {
            "tags": []
          },
          "execution_count": 25
        }
      ]
    },
    {
      "cell_type": "code",
      "metadata": {
        "id": "m3IWpcWQmc1d",
        "colab": {
          "base_uri": "https://localhost:8080/"
        },
        "outputId": "e8a6e5c9-18c1-4093-9554-ca15d997c3fb"
      },
      "source": [
        "cl.train(\"This money is bad.\", \"bad\")\n",
        "cl.weightedprob('money', 'bad', cl.fprob)"
      ],
      "execution_count": 26,
      "outputs": [
        {
          "output_type": "execute_result",
          "data": {
            "text/plain": [
              "0.7857142857142857"
            ]
          },
          "metadata": {
            "tags": []
          },
          "execution_count": 26
        }
      ]
    },
    {
      "cell_type": "markdown",
      "metadata": {
        "id": "Pl8fwuMctIE8"
      },
      "source": [
        "### Example 4 - fprob vs. weightedprob"
      ]
    },
    {
      "cell_type": "code",
      "metadata": {
        "id": "obTlbgrXuMFH"
      },
      "source": [
        "cl = basic_classifier(getwords)\n",
        "sampletrain(cl)"
      ],
      "execution_count": 27,
      "outputs": []
    },
    {
      "cell_type": "code",
      "metadata": {
        "id": "QgyFffZ7uVP0",
        "colab": {
          "base_uri": "https://localhost:8080/"
        },
        "outputId": "912f7fb1-1df2-4cdd-80ea-09f0542fc27d"
      },
      "source": [
        "cl.fprob('shop', 'ontopic')"
      ],
      "execution_count": 28,
      "outputs": [
        {
          "output_type": "execute_result",
          "data": {
            "text/plain": [
              "0.6"
            ]
          },
          "metadata": {
            "tags": []
          },
          "execution_count": 28
        }
      ]
    },
    {
      "cell_type": "code",
      "metadata": {
        "id": "wj2dEwy2uRBA",
        "colab": {
          "base_uri": "https://localhost:8080/"
        },
        "outputId": "7bfc7ffb-ce2b-4019-de7d-9db95b2e7b20"
      },
      "source": [
        "cl.weightedprob('shop', 'ontopic', cl.fprob)"
      ],
      "execution_count": 29,
      "outputs": [
        {
          "output_type": "execute_result",
          "data": {
            "text/plain": [
              "0.5941176470588235"
            ]
          },
          "metadata": {
            "tags": []
          },
          "execution_count": 29
        }
      ]
    },
    {
      "cell_type": "markdown",
      "metadata": {
        "id": "qN22-1FPsAfn"
      },
      "source": [
        "### Example 5 (pg. 123) - adding more training data"
      ]
    },
    {
      "cell_type": "code",
      "metadata": {
        "id": "C6pAqaDqi09a"
      },
      "source": [
        "cl = basic_classifier(getwords)\n",
        "sampletrain(cl)"
      ],
      "execution_count": 30,
      "outputs": []
    },
    {
      "cell_type": "code",
      "metadata": {
        "id": "gc3ujJ1Eu3On",
        "colab": {
          "base_uri": "https://localhost:8080/"
        },
        "outputId": "6b49c883-e1e2-45bf-fbdf-de145d315f78"
      },
      "source": [
        "cl.weightedprob('shop', 'ontopic', cl.fprob)"
      ],
      "execution_count": 31,
      "outputs": [
        {
          "output_type": "execute_result",
          "data": {
            "text/plain": [
              "0.5941176470588235"
            ]
          },
          "metadata": {
            "tags": []
          },
          "execution_count": 31
        }
      ]
    },
    {
      "cell_type": "code",
      "metadata": {
        "colab": {
          "base_uri": "https://localhost:8080/"
        },
        "id": "5ISWsE42-Y5Y",
        "outputId": "55eddef8-8093-4436-da80-dcd6d92960f6"
      },
      "source": [
        "cl.weightedprob('kaggle', 'offtopic', cl.fprob)"
      ],
      "execution_count": 32,
      "outputs": [
        {
          "output_type": "execute_result",
          "data": {
            "text/plain": [
              "0.24285714285714285"
            ]
          },
          "metadata": {
            "tags": []
          },
          "execution_count": 32
        }
      ]
    },
    {
      "cell_type": "code",
      "metadata": {
        "id": "u54omZlBpNRE",
        "colab": {
          "base_uri": "https://localhost:8080/"
        },
        "outputId": "0773b2a4-3c86-4312-f4d7-e01b658a1a46"
      },
      "source": [
        "sampletrain(cl)\n",
        "cl.weightedprob('shop', 'ontopic', cl.fprob)"
      ],
      "execution_count": 33,
      "outputs": [
        {
          "output_type": "execute_result",
          "data": {
            "text/plain": [
              "0.5969696969696969"
            ]
          },
          "metadata": {
            "tags": []
          },
          "execution_count": 33
        }
      ]
    },
    {
      "cell_type": "code",
      "metadata": {
        "colab": {
          "base_uri": "https://localhost:8080/"
        },
        "id": "Nf2exS0u-dOt",
        "outputId": "d99c1a0a-c3cd-4bb4-c155-f19410fe6a59"
      },
      "source": [
        "sampletrain(cl)\n",
        "cl.weightedprob('kaggle', 'offtopic', cl.fprob)"
      ],
      "execution_count": 34,
      "outputs": [
        {
          "output_type": "execute_result",
          "data": {
            "text/plain": [
              "0.14"
            ]
          },
          "metadata": {
            "tags": []
          },
          "execution_count": 34
        }
      ]
    },
    {
      "cell_type": "markdown",
      "metadata": {
        "id": "SBB62YFRsfgZ"
      },
      "source": [
        "## Naive Bayes Classifier"
      ]
    },
    {
      "cell_type": "markdown",
      "metadata": {
        "id": "K_SEu0QhwDlS"
      },
      "source": [
        "*To use this with the basic classifier (and to change it back later), make the following changes:*\n",
        "* `class naivebayes(classifier)` -> `class naivebayes(basic_classifier)`\n",
        "* `classifier.__init__(self,getfeatures)` -> `basic_classifier.__init__(self,getfeatures)`"
      ]
    },
    {
      "cell_type": "code",
      "metadata": {
        "id": "0hSyFIKnrRly"
      },
      "source": [
        "class naivebayes(basic_classifier):   # change for basic_classifier\n",
        "\n",
        "  def __init__(self,getfeatures):   \n",
        "    basic_classifier.__init__(self,getfeatures)  # change for basic_classifier\n",
        "    self.thresholds={}\n",
        "  \n",
        "  def docprob(self,item,cat):\n",
        "    features=self.getfeatures(item)   \n",
        "\n",
        "    # Multiply the probabilities of all the features together\n",
        "    p=1\n",
        "    for f in features: p*=self.weightedprob(f,cat,self.fprob)\n",
        "    return p\n",
        "\n",
        "  def prob(self,item,cat):\n",
        "    catprob=self.catcount(cat)/self.totalcount()\n",
        "    docprob=self.docprob(item,cat)\n",
        "    return docprob*catprob\n",
        "  \n",
        "  def setthreshold(self,cat,t):\n",
        "    self.thresholds[cat]=t\n",
        "    \n",
        "  def getthreshold(self,cat):\n",
        "    if cat not in self.thresholds: return 1.0\n",
        "    return self.thresholds[cat]\n",
        "  \n",
        "  def classify(self,item,default=None):\n",
        "    probs={}\n",
        "    # Find the category with the highest probability\n",
        "    max=0.0\n",
        "    for cat in self.categories():\n",
        "      probs[cat]=self.prob(item,cat)\n",
        "      if probs[cat]>max: \n",
        "        max=probs[cat]\n",
        "        best=cat\n",
        "\n",
        "    # Make sure the probability exceeds threshold*next best\n",
        "    for cat in probs:\n",
        "      if cat==best: continue\n",
        "      if probs[cat]*self.getthreshold(best)>probs[best]: return default\n",
        "    return best"
      ],
      "execution_count": 35,
      "outputs": []
    },
    {
      "cell_type": "markdown",
      "metadata": {
        "id": "xBXr3UZPw7k-"
      },
      "source": [
        "## Bayesian Examples"
      ]
    },
    {
      "cell_type": "markdown",
      "metadata": {
        "id": "aO0hRvutWP00"
      },
      "source": [
        "### Example 1 (pg. 125) - prob\n",
        "\n",
        "Training dataset: \n",
        "```\n",
        "('Nobody owns the water.','good')\n",
        "('the quick rabbit jumps fences','good')\n",
        "('buy pharmaceuticals now','bad')\n",
        "('make quick money at the online casino','bad')\n",
        "('the quick brown fox jumps','good')\n",
        "```"
      ]
    },
    {
      "cell_type": "code",
      "metadata": {
        "id": "SAQf5uG0xK6_",
        "colab": {
          "base_uri": "https://localhost:8080/"
        },
        "outputId": "cd77b674-34bc-447a-be49-b7a2282ec693"
      },
      "source": [
        "cl = naivebayes(getwords)\n",
        "sampletrain(cl)\n",
        "cl.prob('shop', 'ontopic')"
      ],
      "execution_count": 36,
      "outputs": [
        {
          "output_type": "execute_result",
          "data": {
            "text/plain": [
              "0.29705882352941176"
            ]
          },
          "metadata": {
            "tags": []
          },
          "execution_count": 36
        }
      ]
    },
    {
      "cell_type": "code",
      "metadata": {
        "id": "ltYOiPfQx4tz",
        "colab": {
          "base_uri": "https://localhost:8080/"
        },
        "outputId": "3fc70be5-d75c-40d4-cba3-bef32e437e32"
      },
      "source": [
        "cl.prob('shop', 'offtopic')"
      ],
      "execution_count": 37,
      "outputs": [
        {
          "output_type": "execute_result",
          "data": {
            "text/plain": [
              "0.014705882352941176"
            ]
          },
          "metadata": {
            "tags": []
          },
          "execution_count": 37
        }
      ]
    },
    {
      "cell_type": "markdown",
      "metadata": {
        "id": "Pk-7_qV2Wavk"
      },
      "source": [
        "### Example 2 (pg. 127) - using thresholds"
      ]
    },
    {
      "cell_type": "code",
      "metadata": {
        "id": "5h-HfU9KZ85l",
        "colab": {
          "base_uri": "https://localhost:8080/",
          "height": 35
        },
        "outputId": "d47519d3-7f5e-4d83-fc90-4153c309b426"
      },
      "source": [
        "cl = naivebayes(getwords)\n",
        "sampletrain(cl)\n",
        "cl.classify(open(\"ontopic21.txt\",\"r\",encoding=\"utf8\").read().replace(\"\\n\", \" \"), default='unknown')"
      ],
      "execution_count": 38,
      "outputs": [
        {
          "output_type": "execute_result",
          "data": {
            "application/vnd.google.colaboratory.intrinsic+json": {
              "type": "string"
            },
            "text/plain": [
              "'ontopic'"
            ]
          },
          "metadata": {
            "tags": []
          },
          "execution_count": 38
        }
      ]
    },
    {
      "cell_type": "code",
      "metadata": {
        "colab": {
          "base_uri": "https://localhost:8080/",
          "height": 35
        },
        "id": "wqNzuosr9lEw",
        "outputId": "5f7cd4e4-3f09-46ba-a38c-7f99bdf535f9"
      },
      "source": [
        "cl = naivebayes(getwords)\n",
        "sampletrain(cl)\n",
        "cl.classify(open(\"ontopic22.txt\",\"r\",encoding=\"utf8\").read().replace(\"\\n\", \" \"), default='unknown')"
      ],
      "execution_count": 39,
      "outputs": [
        {
          "output_type": "execute_result",
          "data": {
            "application/vnd.google.colaboratory.intrinsic+json": {
              "type": "string"
            },
            "text/plain": [
              "'ontopic'"
            ]
          },
          "metadata": {
            "tags": []
          },
          "execution_count": 39
        }
      ]
    },
    {
      "cell_type": "code",
      "metadata": {
        "colab": {
          "base_uri": "https://localhost:8080/",
          "height": 35
        },
        "id": "8MOMdI329nkc",
        "outputId": "1155c831-f457-4b1a-ac78-9b2845f2c8de"
      },
      "source": [
        "cl = naivebayes(getwords)\n",
        "sampletrain(cl)\n",
        "cl.classify(open(\"ontopic23.txt\",\"r\",encoding=\"utf8\").read().replace(\"\\n\", \" \"), default='unknown')"
      ],
      "execution_count": 40,
      "outputs": [
        {
          "output_type": "execute_result",
          "data": {
            "application/vnd.google.colaboratory.intrinsic+json": {
              "type": "string"
            },
            "text/plain": [
              "'ontopic'"
            ]
          },
          "metadata": {
            "tags": []
          },
          "execution_count": 40
        }
      ]
    },
    {
      "cell_type": "code",
      "metadata": {
        "colab": {
          "base_uri": "https://localhost:8080/",
          "height": 35
        },
        "id": "PMy2EuoS9p-y",
        "outputId": "0244967e-ba31-440d-a3a0-10d23bf4e9d3"
      },
      "source": [
        "cl = naivebayes(getwords)\n",
        "sampletrain(cl)\n",
        "cl.classify(open(\"ontopic24.txt\",\"r\",encoding=\"utf8\").read().replace(\"\\n\", \" \"), default='unknown')"
      ],
      "execution_count": 41,
      "outputs": [
        {
          "output_type": "execute_result",
          "data": {
            "application/vnd.google.colaboratory.intrinsic+json": {
              "type": "string"
            },
            "text/plain": [
              "'ontopic'"
            ]
          },
          "metadata": {
            "tags": []
          },
          "execution_count": 41
        }
      ]
    },
    {
      "cell_type": "code",
      "metadata": {
        "colab": {
          "base_uri": "https://localhost:8080/",
          "height": 35
        },
        "id": "nbCZtF4o9rmI",
        "outputId": "e62f0ab4-f7ba-4677-f2bd-6ec4288977a2"
      },
      "source": [
        "cl = naivebayes(getwords)\n",
        "sampletrain(cl)\n",
        "cl.classify(open(\"ontopic25.txt\",\"r\",encoding=\"utf8\").read().replace(\"\\n\", \" \"), default='unknown')"
      ],
      "execution_count": 42,
      "outputs": [
        {
          "output_type": "execute_result",
          "data": {
            "application/vnd.google.colaboratory.intrinsic+json": {
              "type": "string"
            },
            "text/plain": [
              "'ontopic'"
            ]
          },
          "metadata": {
            "tags": []
          },
          "execution_count": 42
        }
      ]
    },
    {
      "cell_type": "code",
      "metadata": {
        "colab": {
          "base_uri": "https://localhost:8080/",
          "height": 35
        },
        "id": "MEVsF0CA9vmD",
        "outputId": "d5c655fa-2046-4ab7-c0e9-690d68be63d4"
      },
      "source": [
        "cl = naivebayes(getwords)\n",
        "sampletrain(cl)\n",
        "cl.classify(open(\"offtopic21.txt\",\"r\",encoding=\"utf8\").read().replace(\"\\n\", \" \"), default='unknown')"
      ],
      "execution_count": 43,
      "outputs": [
        {
          "output_type": "execute_result",
          "data": {
            "application/vnd.google.colaboratory.intrinsic+json": {
              "type": "string"
            },
            "text/plain": [
              "'offtopic'"
            ]
          },
          "metadata": {
            "tags": []
          },
          "execution_count": 43
        }
      ]
    },
    {
      "cell_type": "code",
      "metadata": {
        "colab": {
          "base_uri": "https://localhost:8080/",
          "height": 35
        },
        "id": "JO8PuPXx9yOb",
        "outputId": "e27cb789-5cd6-4109-a42c-d2d3c15de943"
      },
      "source": [
        "cl = naivebayes(getwords)\n",
        "sampletrain(cl)\n",
        "cl.classify(open(\"offtopic22.txt\",\"r\",encoding=\"utf8\").read().replace(\"\\n\", \" \"), default='unknown')"
      ],
      "execution_count": 44,
      "outputs": [
        {
          "output_type": "execute_result",
          "data": {
            "application/vnd.google.colaboratory.intrinsic+json": {
              "type": "string"
            },
            "text/plain": [
              "'offtopic'"
            ]
          },
          "metadata": {
            "tags": []
          },
          "execution_count": 44
        }
      ]
    },
    {
      "cell_type": "code",
      "metadata": {
        "colab": {
          "base_uri": "https://localhost:8080/",
          "height": 35
        },
        "id": "vxF4kBob91kg",
        "outputId": "50111bec-7f54-4d56-9ccd-5e0c78ca03e4"
      },
      "source": [
        "cl = naivebayes(getwords)\n",
        "sampletrain(cl)\n",
        "cl.classify(open(\"offtopic23.txt\",\"r\",encoding=\"utf8\").read().replace(\"\\n\", \" \"), default='unknown')"
      ],
      "execution_count": 45,
      "outputs": [
        {
          "output_type": "execute_result",
          "data": {
            "application/vnd.google.colaboratory.intrinsic+json": {
              "type": "string"
            },
            "text/plain": [
              "'offtopic'"
            ]
          },
          "metadata": {
            "tags": []
          },
          "execution_count": 45
        }
      ]
    },
    {
      "cell_type": "code",
      "metadata": {
        "colab": {
          "base_uri": "https://localhost:8080/",
          "height": 35
        },
        "id": "yVyRgo9a93uv",
        "outputId": "5988e726-622c-4398-e6cd-ca397f5c3287"
      },
      "source": [
        "cl = naivebayes(getwords)\n",
        "sampletrain(cl)\n",
        "cl.classify(open(\"offtopic24.txt\",\"r\",encoding=\"utf8\").read().replace(\"\\n\", \" \"), default='unknown')"
      ],
      "execution_count": 46,
      "outputs": [
        {
          "output_type": "execute_result",
          "data": {
            "application/vnd.google.colaboratory.intrinsic+json": {
              "type": "string"
            },
            "text/plain": [
              "'offtopic'"
            ]
          },
          "metadata": {
            "tags": []
          },
          "execution_count": 46
        }
      ]
    },
    {
      "cell_type": "code",
      "metadata": {
        "colab": {
          "base_uri": "https://localhost:8080/",
          "height": 35
        },
        "id": "qTCOGu3U-Bvl",
        "outputId": "200593e1-b0cf-4e46-bc73-6fedbe913f1b"
      },
      "source": [
        "cl = naivebayes(getwords)\n",
        "sampletrain(cl)\n",
        "cl.classify(open(\"offtopic25.txt\",\"r\",encoding=\"utf8\").read().replace(\"\\n\", \" \"), default='unknown')"
      ],
      "execution_count": 48,
      "outputs": [
        {
          "output_type": "execute_result",
          "data": {
            "application/vnd.google.colaboratory.intrinsic+json": {
              "type": "string"
            },
            "text/plain": [
              "'offtopic'"
            ]
          },
          "metadata": {
            "tags": []
          },
          "execution_count": 48
        }
      ]
    },
    {
      "cell_type": "markdown",
      "metadata": {
        "id": "Crf8WHNqoX2z"
      },
      "source": [
        "## Classifier w/SQL\n",
        "\n",
        "Uses a SQL database"
      ]
    },
    {
      "cell_type": "code",
      "metadata": {
        "id": "phzg7xZyrLn6"
      },
      "source": [
        "class classifier:\n",
        "  def __init__(self,getfeatures,filename=None):\n",
        "    # Counts of feature/category combinations\n",
        "    self.fc={}\n",
        "    # Counts of documents in each category\n",
        "    self.cc={}\n",
        "    self.getfeatures=getfeatures\n",
        "    \n",
        "  def setdb(self,dbfile):\n",
        "    self.con=sqlite.connect(dbfile)    \n",
        "    self.con.execute('create table if not exists fc(feature,category,count)')\n",
        "    self.con.execute('create table if not exists cc(category,count)')\n",
        "\n",
        "  def incf(self,f,cat):\n",
        "    count=self.fcount(f,cat)\n",
        "    if count==0:\n",
        "      self.con.execute(\"insert into fc values ('%s','%s',1)\" \n",
        "                       % (f,cat))\n",
        "    else:\n",
        "      self.con.execute(\n",
        "        \"update fc set count=%d where feature='%s' and category='%s'\" \n",
        "        % (count+1,f,cat)) \n",
        "  \n",
        "  def fcount(self,f,cat):\n",
        "    res=self.con.execute(\n",
        "      'select count from fc where feature=\"%s\" and category=\"%s\"'\n",
        "      %(f,cat)).fetchone()\n",
        "    if res==None: return 0\n",
        "    else: return float(res[0])\n",
        "\n",
        "  def incc(self,cat):\n",
        "    count=self.catcount(cat)\n",
        "    if count==0:\n",
        "      self.con.execute(\"insert into cc values ('%s',1)\" % (cat))\n",
        "    else:\n",
        "      self.con.execute(\"update cc set count=%d where category='%s'\" \n",
        "                       % (count+1,cat))    \n",
        "\n",
        "  def catcount(self,cat):\n",
        "    res=self.con.execute('select count from cc where category=\"%s\"'\n",
        "                         %(cat)).fetchone()\n",
        "    if res==None: return 0\n",
        "    else: return float(res[0])\n",
        "\n",
        "  def categories(self):\n",
        "    cur=self.con.execute('select category from cc');\n",
        "    return [d[0] for d in cur]\n",
        "\n",
        "  def totalcount(self):\n",
        "    res=self.con.execute('select sum(count) from cc').fetchone();\n",
        "    if res==None: return 0\n",
        "    return res[0]\n",
        "\n",
        "  def train(self,item,cat):\n",
        "    features=self.getfeatures(item)\n",
        "    # Increment the count for every feature with this category\n",
        "    for f in features:\n",
        "      self.incf(f,cat)\n",
        "\n",
        "    # Increment the count for this category\n",
        "    self.incc(cat)\n",
        "    self.con.commit()\n",
        "\n",
        "  def fprob(self,f,cat):\n",
        "    if self.catcount(cat)==0: return 0\n",
        "\n",
        "    # The total number of times this feature appeared in this \n",
        "    # category divided by the total number of items in this category\n",
        "    return self.fcount(f,cat)/self.catcount(cat)\n",
        "\n",
        "  def weightedprob(self,f,cat,prf,weight=1.0,ap=0.5):\n",
        "    # Calculate current probability\n",
        "    basicprob=prf(f,cat)\n",
        "\n",
        "    # Count the number of times this feature has appeared in\n",
        "    # all categories\n",
        "    totals=sum([self.fcount(f,c) for c in self.categories()])\n",
        "\n",
        "    # Calculate the weighted average\n",
        "    bp=((weight*ap)+(totals*basicprob))/(weight+totals)\n",
        "    return bp\n"
      ],
      "execution_count": null,
      "outputs": []
    },
    {
      "cell_type": "markdown",
      "metadata": {
        "id": "csq1--iEsU8J"
      },
      "source": [
        "## Examples - Full Bayesian Classifier w/SQL\n"
      ]
    },
    {
      "cell_type": "code",
      "metadata": {
        "id": "69xRiX9NsMWp"
      },
      "source": [
        "def spamTrain(cl):\n",
        "  cl.train('the the', 'not spam')\n",
        "  cl.train('cheap cheap cheap banking the', 'spam')\n",
        "  cl.train('the', 'not spam')\n",
        "  cl.train('cheap cheap banking banking banking the the', 'spam')\n",
        "  cl.train('cheap cheap cheap cheap cheap buy buy the', 'spam')\n",
        "  cl.train('banking the', 'not spam')\n",
        "  cl.train('buy banking the', 'not spam')\n",
        "  cl.train('the', 'not spam')\n",
        "  cl.train('the', 'not spam')\n",
        "  cl.train('cheap buy dinner the the', 'not spam')"
      ],
      "execution_count": null,
      "outputs": []
    },
    {
      "cell_type": "markdown",
      "metadata": {
        "id": "eQlVRcDDT9zY"
      },
      "source": [
        "*Don't forget to adjust `class naivebayes` to use `classifier`*"
      ]
    },
    {
      "cell_type": "code",
      "metadata": {
        "id": "ZaZ1mvK6fjyL"
      },
      "source": [
        "cl = naivebayes(getwords)\n",
        "cl.setdb('test1.db')\n",
        "spamTrain(cl)\n",
        "cl.setthreshold('spam', 3.0)\n",
        "cl.classify('the banking dinner', default='unknown')"
      ],
      "execution_count": null,
      "outputs": []
    },
    {
      "cell_type": "code",
      "metadata": {
        "id": "EmWGy3lGrIBp"
      },
      "source": [
        "cl2 = naivebayes(getwords)\n",
        "cl2.setdb('test2.db')\n",
        "sampletrain(cl2)\n",
        "cl2.setthreshold('bad', 3.0)\n",
        "cl2.classify('quick money', default='unknown')"
      ],
      "execution_count": null,
      "outputs": []
    },
    {
      "cell_type": "code",
      "metadata": {
        "id": "p9AWghJOrTW3"
      },
      "source": [
        "cl = naivebayes(getwords)\n",
        "cl.setdb('test1.db')\n",
        "cl.classify('cheap money', default='unknown')"
      ],
      "execution_count": null,
      "outputs": []
    },
    {
      "cell_type": "code",
      "metadata": {
        "id": "JZRRnVBgrWWm"
      },
      "source": [
        "cl2.classify('online casino now', default='unknown')"
      ],
      "execution_count": null,
      "outputs": []
    }
  ]
}